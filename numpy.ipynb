{
  "nbformat": 4,
  "nbformat_minor": 0,
  "metadata": {
    "colab": {
      "provenance": [],
      "authorship_tag": "ABX9TyMjP+zJHec6HPtoRMRmOz5D",
      "include_colab_link": true
    },
    "kernelspec": {
      "name": "python3",
      "display_name": "Python 3"
    },
    "language_info": {
      "name": "python"
    }
  },
  "cells": [
    {
      "cell_type": "markdown",
      "metadata": {
        "id": "view-in-github",
        "colab_type": "text"
      },
      "source": [
        "<a href=\"https://colab.research.google.com/github/semaozkir/Intro-to-AI/blob/main/numpy.ipynb\" target=\"_parent\"><img src=\"https://colab.research.google.com/assets/colab-badge.svg\" alt=\"Open In Colab\"/></a>"
      ]
    },
    {
      "cell_type": "markdown",
      "source": [
        "**Numpy**"
      ],
      "metadata": {
        "id": "wCRWj7Wapedy"
      }
    },
    {
      "cell_type": "code",
      "source": [
        "import numpy as np"
      ],
      "metadata": {
        "id": "XBKyiYzbpBb8"
      },
      "execution_count": null,
      "outputs": []
    },
    {
      "cell_type": "code",
      "source": [
        "# numpy array olustur\n",
        "# liste = [1,2,3,4,5,6,7,8,9,10,11,12,13,14,15]\n",
        "dizi = np.array([1,2,3,4,5,6,7,8,9,10,11,12,13,14,15])\n",
        "dizi"
      ],
      "metadata": {
        "colab": {
          "base_uri": "https://localhost:8080/"
        },
        "id": "vUlumpcHqAX8",
        "outputId": "09c98fb0-5d94-4e3a-b046-6e4af1128e42"
      },
      "execution_count": null,
      "outputs": [
        {
          "output_type": "execute_result",
          "data": {
            "text/plain": [
              "array([ 1,  2,  3,  4,  5,  6,  7,  8,  9, 10, 11, 12, 13, 14, 15])"
            ]
          },
          "metadata": {},
          "execution_count": 2
        }
      ]
    },
    {
      "cell_type": "code",
      "source": [
        "# array boyutu\n",
        "dizi.shape # (15,) -> 15x1 lik bir vektor"
      ],
      "metadata": {
        "colab": {
          "base_uri": "https://localhost:8080/"
        },
        "id": "LJyj2D1-qXRC",
        "outputId": "b119680c-c87a-467e-a5c3-da198be0654e"
      },
      "execution_count": null,
      "outputs": [
        {
          "output_type": "execute_result",
          "data": {
            "text/plain": [
              "(15,)"
            ]
          },
          "metadata": {},
          "execution_count": 3
        }
      ]
    },
    {
      "cell_type": "code",
      "source": [
        "# 15x1 lik bir arrayi 3x5 lik bir matrise cevirelim\n",
        "dizi2 = dizi.reshape(3,5)\n",
        "dizi2"
      ],
      "metadata": {
        "colab": {
          "base_uri": "https://localhost:8080/"
        },
        "id": "kthOU4yLquHN",
        "outputId": "434d949b-32d4-4aa7-c401-f63a62fa66eb"
      },
      "execution_count": null,
      "outputs": [
        {
          "output_type": "execute_result",
          "data": {
            "text/plain": [
              "array([[ 1,  2,  3,  4,  5],\n",
              "       [ 6,  7,  8,  9, 10],\n",
              "       [11, 12, 13, 14, 15]])"
            ]
          },
          "metadata": {},
          "execution_count": 4
        }
      ]
    },
    {
      "cell_type": "code",
      "source": [
        "print(\"shape: \", dizi2.shape)\n",
        "print(\"dimension: \", dizi2.ndim)\n",
        "print(\"size: \",dizi2.size)\n",
        "print(\"type: \", type(dizi2))"
      ],
      "metadata": {
        "colab": {
          "base_uri": "https://localhost:8080/"
        },
        "id": "trwpjeC2rKMi",
        "outputId": "c96da2cb-f016-41d3-957a-f6703425986f"
      },
      "execution_count": null,
      "outputs": [
        {
          "output_type": "stream",
          "name": "stdout",
          "text": [
            "shape:  (3, 5)\n",
            "dimension:  2\n",
            "size:  15\n",
            "type:  <class 'numpy.ndarray'>\n"
          ]
        }
      ]
    },
    {
      "cell_type": "code",
      "source": [
        "dizi2D = np.array([[1,2,3,4],[5,6,7,8],[9,8,7,5]])\n",
        "dizi2D"
      ],
      "metadata": {
        "colab": {
          "base_uri": "https://localhost:8080/"
        },
        "id": "8FxyWXUhraYd",
        "outputId": "6bcd6922-3e5d-4591-d6b2-d428dd79f58f"
      },
      "execution_count": null,
      "outputs": [
        {
          "output_type": "execute_result",
          "data": {
            "text/plain": [
              "array([[1, 2, 3, 4],\n",
              "       [5, 6, 7, 8],\n",
              "       [9, 8, 7, 5]])"
            ]
          },
          "metadata": {},
          "execution_count": 32
        }
      ]
    },
    {
      "cell_type": "code",
      "source": [
        "# sifirlardan olusan bir array olusturalim\n",
        "sifir_dizi = np.zeros((3,4))\n",
        "sifir_dizi"
      ],
      "metadata": {
        "colab": {
          "base_uri": "https://localhost:8080/"
        },
        "id": "OfhgVvqqsGTk",
        "outputId": "cc9aa2a9-aa63-45fd-d75f-5fcb91805a3a"
      },
      "execution_count": null,
      "outputs": [
        {
          "output_type": "execute_result",
          "data": {
            "text/plain": [
              "array([[0., 0., 0., 0.],\n",
              "       [0., 0., 0., 0.],\n",
              "       [0., 0., 0., 0.]])"
            ]
          },
          "metadata": {},
          "execution_count": 7
        }
      ]
    },
    {
      "cell_type": "code",
      "source": [
        "# birlerden olsan array\n",
        "bir_dizi = np.ones((3,4))\n",
        "bir_dizi"
      ],
      "metadata": {
        "colab": {
          "base_uri": "https://localhost:8080/"
        },
        "id": "Vjl7YIO7sZQ9",
        "outputId": "da4e338b-ddc3-4807-abd9-f5143a9abceb"
      },
      "execution_count": null,
      "outputs": [
        {
          "output_type": "execute_result",
          "data": {
            "text/plain": [
              "array([[1., 1., 1., 1.],\n",
              "       [1., 1., 1., 1.],\n",
              "       [1., 1., 1., 1.]])"
            ]
          },
          "metadata": {},
          "execution_count": 8
        }
      ]
    },
    {
      "cell_type": "code",
      "source": [
        "# bos bir array olustur\n",
        "bos_dizi = np.empty((2,4))\n",
        "bos_dizi"
      ],
      "metadata": {
        "colab": {
          "base_uri": "https://localhost:8080/"
        },
        "id": "_nTHYf0ssnaQ",
        "outputId": "16879840-67f4-45e4-ae9d-0967e5ef48d2"
      },
      "execution_count": null,
      "outputs": [
        {
          "output_type": "execute_result",
          "data": {
            "text/plain": [
              "array([[4.9e-324, 9.9e-324, 1.5e-323, 2.0e-323],\n",
              "       [2.5e-323, 3.0e-323, 3.5e-323, 4.0e-323]])"
            ]
          },
          "metadata": {},
          "execution_count": 47
        }
      ]
    },
    {
      "cell_type": "code",
      "source": [
        "# arange(x,y,basamak) x den baslar y ye (y dahil degil) kadar gider basamak buyuklugunder artarak ilerler\n",
        "# 10, 50, basamak = 5\n",
        "dizi_aralik = np.arange(10,50,8)\n",
        "dizi_aralik"
      ],
      "metadata": {
        "colab": {
          "base_uri": "https://localhost:8080/"
        },
        "id": "PlCv3ShSsxYY",
        "outputId": "fa694d48-b216-4b18-92ec-7e3afdcecd34"
      },
      "execution_count": null,
      "outputs": [
        {
          "output_type": "execute_result",
          "data": {
            "text/plain": [
              "array([10, 18, 26, 34, 42])"
            ]
          },
          "metadata": {},
          "execution_count": 10
        }
      ]
    },
    {
      "cell_type": "code",
      "source": [
        "# linspace  (x,y,basamak) x ve y(dahil) araliginde basamak kadar sayiya boler\n",
        "dizi_bosluk = np.linspace(10,50,103)\n",
        "len(dizi_bosluk)"
      ],
      "metadata": {
        "colab": {
          "base_uri": "https://localhost:8080/"
        },
        "id": "f9maCpIdtVPj",
        "outputId": "669a407e-fa8a-4bb9-b96b-3b2925682dda"
      },
      "execution_count": null,
      "outputs": [
        {
          "output_type": "execute_result",
          "data": {
            "text/plain": [
              "103"
            ]
          },
          "metadata": {},
          "execution_count": 57
        }
      ]
    },
    {
      "cell_type": "markdown",
      "source": [
        "**Numpy Temel Operasyonları**"
      ],
      "metadata": {
        "id": "cryTo0ck0Jwd"
      }
    },
    {
      "cell_type": "code",
      "source": [
        "import numpy as np"
      ],
      "metadata": {
        "id": "SUM1Uz5U0SHK"
      },
      "execution_count": null,
      "outputs": []
    },
    {
      "cell_type": "code",
      "source": [
        "a = np.array([1,2,3])\n",
        "b = np.array([4,5,6])"
      ],
      "metadata": {
        "id": "9WHSW7gs0dRB"
      },
      "execution_count": null,
      "outputs": []
    },
    {
      "cell_type": "code",
      "source": [
        "print(\"Toplama: \", a+b)\n",
        "print(\"Cikarma: \", a-b)\n",
        "print(\"Dizinin kendisi ile carpimi: \", a**2)"
      ],
      "metadata": {
        "colab": {
          "base_uri": "https://localhost:8080/"
        },
        "id": "rs_GuMme0ifd",
        "outputId": "838a9076-e3ad-458b-9aa5-96a89e27484e"
      },
      "execution_count": null,
      "outputs": [
        {
          "output_type": "stream",
          "name": "stdout",
          "text": [
            "Toplama:  [5 7 9]\n",
            "Cikarma:  [-3 -3 -3]\n",
            "Dizinin kendisi ile carpimi:  [1 4 9]\n"
          ]
        }
      ]
    },
    {
      "cell_type": "code",
      "source": [
        "# filtreleme\n",
        "a = np.array([1,2,3])\n",
        "filtre = a < 2 # a array'nin icerisinde bulunan 2 den kucuk degerleri goster\n",
        "filtre"
      ],
      "metadata": {
        "colab": {
          "base_uri": "https://localhost:8080/"
        },
        "id": "Htbiq85h0pu7",
        "outputId": "1f721b82-d307-43c3-a725-2f6e6cef480b"
      },
      "execution_count": null,
      "outputs": [
        {
          "output_type": "execute_result",
          "data": {
            "text/plain": [
              "array([ True, False, False])"
            ]
          },
          "metadata": {},
          "execution_count": 8
        }
      ]
    },
    {
      "cell_type": "code",
      "source": [
        "# matris carpimi\n",
        "a = np.array([1,2,3])\n",
        "b = np.array([4,5,6])\n",
        "a.dot(b)"
      ],
      "metadata": {
        "colab": {
          "base_uri": "https://localhost:8080/"
        },
        "id": "X_lyjkjl1LXm",
        "outputId": "9f4b5a0f-1b65-46f2-d17f-73e30527098c"
      },
      "execution_count": null,
      "outputs": [
        {
          "output_type": "execute_result",
          "data": {
            "text/plain": [
              "32"
            ]
          },
          "metadata": {},
          "execution_count": 20
        }
      ]
    },
    {
      "cell_type": "code",
      "source": [
        "a = np.array([[1,2,3],[4,5,6]]) # 2x3\n",
        "b = np.array([[4,5,6],[1,2,3]]) # 2x3 ->T-> 3x2\n",
        "a.dot(b.T)"
      ],
      "metadata": {
        "colab": {
          "base_uri": "https://localhost:8080/"
        },
        "id": "bM8EWDrk1epI",
        "outputId": "69ae6ee7-e88e-402c-ea12-95809603187a"
      },
      "execution_count": null,
      "outputs": [
        {
          "output_type": "execute_result",
          "data": {
            "text/plain": [
              "array([[32, 14],\n",
              "       [77, 32]])"
            ]
          },
          "metadata": {},
          "execution_count": 22
        }
      ]
    },
    {
      "cell_type": "code",
      "source": [
        "a = np.array([[1,2,3],\n",
        "              [4,5,6]])\n",
        "print(sum(a))\n",
        "print(np.sum(a))"
      ],
      "metadata": {
        "colab": {
          "base_uri": "https://localhost:8080/"
        },
        "id": "IZyXxzZr1sC1",
        "outputId": "fefa40ff-93ee-4796-e9df-020d42eefa95"
      },
      "execution_count": null,
      "outputs": [
        {
          "output_type": "stream",
          "name": "stdout",
          "text": [
            "[5 7 9]\n",
            "21\n"
          ]
        }
      ]
    },
    {
      "cell_type": "code",
      "source": [
        "print(a.max())\n",
        "print(np.max(a))"
      ],
      "metadata": {
        "colab": {
          "base_uri": "https://localhost:8080/"
        },
        "id": "bOIM-0BR2MxF",
        "outputId": "eb67b4d5-5205-4eee-9067-06bea914acc3"
      },
      "execution_count": null,
      "outputs": [
        {
          "output_type": "stream",
          "name": "stdout",
          "text": [
            "6\n",
            "6\n"
          ]
        }
      ]
    },
    {
      "cell_type": "code",
      "source": [
        "print(a.min())\n",
        "print(np.min(a))"
      ],
      "metadata": {
        "colab": {
          "base_uri": "https://localhost:8080/"
        },
        "id": "biPq8Wmv2nEm",
        "outputId": "57947470-612a-4c78-d5b5-3c8b3def2aec"
      },
      "execution_count": null,
      "outputs": [
        {
          "output_type": "stream",
          "name": "stdout",
          "text": [
            "1\n",
            "1\n"
          ]
        }
      ]
    },
    {
      "cell_type": "code",
      "source": [
        "# satir satir toplama\n",
        "a.sum(axis = 1)"
      ],
      "metadata": {
        "colab": {
          "base_uri": "https://localhost:8080/"
        },
        "id": "DlJgwDWt2v5X",
        "outputId": "c3669427-6f76-4f51-9203-876eee5bcc1d"
      },
      "execution_count": null,
      "outputs": [
        {
          "output_type": "execute_result",
          "data": {
            "text/plain": [
              "array([ 6, 15])"
            ]
          },
          "metadata": {},
          "execution_count": 26
        }
      ]
    },
    {
      "cell_type": "code",
      "source": [
        "# sutun sutun toplama\n",
        "a.sum(axis = 0)"
      ],
      "metadata": {
        "colab": {
          "base_uri": "https://localhost:8080/"
        },
        "id": "Ltd21-Pg25fE",
        "outputId": "ed1ddb8e-da43-4b9d-e19f-b7208e6173b4"
      },
      "execution_count": null,
      "outputs": [
        {
          "output_type": "execute_result",
          "data": {
            "text/plain": [
              "array([5, 7, 9])"
            ]
          },
          "metadata": {},
          "execution_count": 27
        }
      ]
    },
    {
      "cell_type": "code",
      "source": [
        "# kare koku\n",
        "np.sqrt(a)"
      ],
      "metadata": {
        "colab": {
          "base_uri": "https://localhost:8080/"
        },
        "id": "g7DZaZHt29bF",
        "outputId": "f612acf3-032a-4e63-8b5f-8108cfa96647"
      },
      "execution_count": null,
      "outputs": [
        {
          "output_type": "execute_result",
          "data": {
            "text/plain": [
              "array([[1.        , 1.41421356, 1.73205081],\n",
              "       [2.        , 2.23606798, 2.44948974]])"
            ]
          },
          "metadata": {},
          "execution_count": 28
        }
      ]
    },
    {
      "cell_type": "code",
      "source": [
        "# karesi\n",
        "print(np.square(a))\n",
        "print(a**2)"
      ],
      "metadata": {
        "colab": {
          "base_uri": "https://localhost:8080/"
        },
        "id": "F5tjEV5r3Jwe",
        "outputId": "37621e2b-9e23-464e-b71b-2436232c7480"
      },
      "execution_count": null,
      "outputs": [
        {
          "output_type": "stream",
          "name": "stdout",
          "text": [
            "[[ 1  4  9]\n",
            " [16 25 36]]\n",
            "[[ 1  4  9]\n",
            " [16 25 36]]\n"
          ]
        }
      ]
    },
    {
      "cell_type": "code",
      "source": [
        "# np.random.rand(3,3)"
      ],
      "metadata": {
        "colab": {
          "base_uri": "https://localhost:8080/"
        },
        "id": "nnrsJIvy4ii9",
        "outputId": "197ccfd0-e8a5-468d-dcc3-7a8ee648b027"
      },
      "execution_count": null,
      "outputs": [
        {
          "output_type": "execute_result",
          "data": {
            "text/plain": [
              "array([[0.5822582 , 0.29735764, 0.63158337],\n",
              "       [0.66748743, 0.6383029 , 0.75614163],\n",
              "       [0.01453915, 0.8746818 , 0.20900089]])"
            ]
          },
          "metadata": {},
          "execution_count": 31
        }
      ]
    },
    {
      "cell_type": "code",
      "source": [
        "# rastgele sayi uretme\n",
        "rastgele_dizi = np.random.random((3,3)) # normal dagilima gore 0-1\n",
        "rastgele_dizi"
      ],
      "metadata": {
        "colab": {
          "base_uri": "https://localhost:8080/"
        },
        "id": "eM31FfF23Oif",
        "outputId": "4e40043a-203a-470e-f9c1-36f95dbfbff8"
      },
      "execution_count": null,
      "outputs": [
        {
          "output_type": "execute_result",
          "data": {
            "text/plain": [
              "array([[0.74866377, 0.73694308, 0.21837979],\n",
              "       [0.05543257, 0.84625597, 0.89775615],\n",
              "       [0.50266118, 0.60195258, 0.46735577]])"
            ]
          },
          "metadata": {},
          "execution_count": 36
        }
      ]
    },
    {
      "cell_type": "code",
      "source": [
        "rastgele_dizi = np.random.normal(0 ,1 , (5,3)) # normal dagilima 0 ortalamali 1 std, 5 adet deger uret\n",
        "rastgele_dizi"
      ],
      "metadata": {
        "colab": {
          "base_uri": "https://localhost:8080/"
        },
        "id": "qTD0GaJc3eko",
        "outputId": "967ea7f2-c8cf-49d5-d8f3-1cc5965fe718"
      },
      "execution_count": null,
      "outputs": [
        {
          "output_type": "execute_result",
          "data": {
            "text/plain": [
              "array([[-0.90958706, -1.59039181,  0.45389321],\n",
              "       [-0.64904909,  1.00948484, -0.72535123],\n",
              "       [-0.82941173, -1.88243567,  0.08195165],\n",
              "       [ 0.72747334,  1.43820674, -0.73074887],\n",
              "       [ 0.47029311,  0.61648715, -0.14237632]])"
            ]
          },
          "metadata": {},
          "execution_count": 45
        }
      ]
    },
    {
      "cell_type": "markdown",
      "source": [
        "**indeksleme ve slicing**"
      ],
      "metadata": {
        "id": "z_YR_dXo5gXz"
      }
    },
    {
      "cell_type": "code",
      "source": [
        "import numpy as np"
      ],
      "metadata": {
        "id": "Bn0naX2w5i80"
      },
      "execution_count": null,
      "outputs": []
    },
    {
      "cell_type": "code",
      "source": [
        "dizi= np.array([1,2,3,4,5,6,7])\n",
        "dizi[3]"
      ],
      "metadata": {
        "colab": {
          "base_uri": "https://localhost:8080/"
        },
        "id": "Ct8bAYC95ouy",
        "outputId": "d7d5407d-926f-4800-e24a-fbf83cee65ab"
      },
      "execution_count": null,
      "outputs": [
        {
          "output_type": "execute_result",
          "data": {
            "text/plain": [
              "4"
            ]
          },
          "metadata": {},
          "execution_count": 49
        }
      ]
    },
    {
      "cell_type": "code",
      "source": [
        "dizi[0:4]"
      ],
      "metadata": {
        "colab": {
          "base_uri": "https://localhost:8080/"
        },
        "id": "rOSwlqks5wRF",
        "outputId": "a7e715af-1409-4625-c0ba-a519052677dd"
      },
      "execution_count": null,
      "outputs": [
        {
          "output_type": "execute_result",
          "data": {
            "text/plain": [
              "array([1, 2, 3, 4])"
            ]
          },
          "metadata": {},
          "execution_count": 50
        }
      ]
    },
    {
      "cell_type": "code",
      "source": [
        "dizi[:4]"
      ],
      "metadata": {
        "colab": {
          "base_uri": "https://localhost:8080/"
        },
        "id": "-jONps6L55Vw",
        "outputId": "dfe6ab5b-1bf9-48f3-b568-8a87e165750d"
      },
      "execution_count": null,
      "outputs": [
        {
          "output_type": "execute_result",
          "data": {
            "text/plain": [
              "array([1, 2, 3, 4])"
            ]
          },
          "metadata": {},
          "execution_count": 51
        }
      ]
    },
    {
      "cell_type": "code",
      "source": [
        "dizi[::-1]"
      ],
      "metadata": {
        "colab": {
          "base_uri": "https://localhost:8080/"
        },
        "id": "K7BzrbCK6A_I",
        "outputId": "37e82707-92f8-45ec-bcb1-2bdc5d9eaa96"
      },
      "execution_count": null,
      "outputs": [
        {
          "output_type": "execute_result",
          "data": {
            "text/plain": [
              "array([7, 6, 5, 4, 3, 2, 1])"
            ]
          },
          "metadata": {},
          "execution_count": 65
        }
      ]
    },
    {
      "cell_type": "code",
      "source": [
        "dizi2D = np.array([[1,2,3,4,5],[6,7,8,9,10]])\n",
        "dizi2D"
      ],
      "metadata": {
        "colab": {
          "base_uri": "https://localhost:8080/"
        },
        "id": "pp-XBMUG6EJe",
        "outputId": "b74e0a2c-ada3-4b60-f97c-97a8261bd189"
      },
      "execution_count": null,
      "outputs": [
        {
          "output_type": "execute_result",
          "data": {
            "text/plain": [
              "array([[ 1,  2,  3,  4,  5],\n",
              "       [ 6,  7,  8,  9, 10]])"
            ]
          },
          "metadata": {},
          "execution_count": 66
        }
      ]
    },
    {
      "cell_type": "code",
      "source": [
        "dizi2D[1,2]"
      ],
      "metadata": {
        "colab": {
          "base_uri": "https://localhost:8080/"
        },
        "id": "iCRVhiZ_6Rsr",
        "outputId": "0c93eda8-07fc-404c-c683-edd63f31eab2"
      },
      "execution_count": null,
      "outputs": [
        {
          "output_type": "execute_result",
          "data": {
            "text/plain": [
              "8"
            ]
          },
          "metadata": {},
          "execution_count": 68
        }
      ]
    },
    {
      "cell_type": "code",
      "source": [
        "dizi2D[1, :] # : = hepsi sutun kismina yazdigim icin tum sutunlar demek"
      ],
      "metadata": {
        "colab": {
          "base_uri": "https://localhost:8080/"
        },
        "id": "XDGuFaLk6djU",
        "outputId": "6514626e-db80-4fb5-835b-68cb51d5b664"
      },
      "execution_count": null,
      "outputs": [
        {
          "output_type": "execute_result",
          "data": {
            "text/plain": [
              "array([ 6,  7,  8,  9, 10])"
            ]
          },
          "metadata": {},
          "execution_count": 69
        }
      ]
    },
    {
      "cell_type": "code",
      "source": [
        "dizi2D[:, 2] #  : = hepsi satir kismina yazdigim icin tum satirlar demek"
      ],
      "metadata": {
        "colab": {
          "base_uri": "https://localhost:8080/"
        },
        "id": "QwlyMIm86yGM",
        "outputId": "0143138d-7bc8-4bc7-f74b-2ae4bdc20174"
      },
      "execution_count": null,
      "outputs": [
        {
          "output_type": "execute_result",
          "data": {
            "text/plain": [
              "array([3, 8])"
            ]
          },
          "metadata": {},
          "execution_count": 70
        }
      ]
    },
    {
      "cell_type": "code",
      "source": [
        "dizi2D[ 0, 0:2] # 1,  2"
      ],
      "metadata": {
        "colab": {
          "base_uri": "https://localhost:8080/"
        },
        "id": "04r0d66j8Oym",
        "outputId": "da8b9828-7975-402b-fb68-5527b7e8e143"
      },
      "execution_count": null,
      "outputs": [
        {
          "output_type": "execute_result",
          "data": {
            "text/plain": [
              "array([1, 2])"
            ]
          },
          "metadata": {},
          "execution_count": 71
        }
      ]
    },
    {
      "cell_type": "code",
      "source": [
        "dizi2D[:, 2:4]\n",
        "\"\"\"\n",
        "[ 1,  2,  3,  4,  5],\n",
        "[ 6,  7,  8,  9, 10]\n",
        "\"\"\""
      ],
      "metadata": {
        "colab": {
          "base_uri": "https://localhost:8080/"
        },
        "id": "TEAeUlvG7Ef8",
        "outputId": "76a4ccf6-8beb-40fe-979f-bfa66b048426"
      },
      "execution_count": null,
      "outputs": [
        {
          "output_type": "execute_result",
          "data": {
            "text/plain": [
              "array([[3, 4],\n",
              "       [8, 9]])"
            ]
          },
          "metadata": {},
          "execution_count": 73
        }
      ]
    },
    {
      "cell_type": "code",
      "source": [
        "dizi2D[-1, :]"
      ],
      "metadata": {
        "colab": {
          "base_uri": "https://localhost:8080/"
        },
        "id": "xHmnVfE37Pez",
        "outputId": "75ada257-f990-48be-fe7d-8d12ea6d51e8"
      },
      "execution_count": null,
      "outputs": [
        {
          "output_type": "execute_result",
          "data": {
            "text/plain": [
              "array([ 6,  7,  8,  9, 10])"
            ]
          },
          "metadata": {},
          "execution_count": 74
        }
      ]
    },
    {
      "cell_type": "code",
      "source": [
        "dizi2D[[0,1], [1,3]]"
      ],
      "metadata": {
        "colab": {
          "base_uri": "https://localhost:8080/"
        },
        "id": "9mb7t3-N7XFX",
        "outputId": "8af6f137-04a9-4623-8f90-76d85bd0414a"
      },
      "execution_count": null,
      "outputs": [
        {
          "output_type": "execute_result",
          "data": {
            "text/plain": [
              "array([2, 9])"
            ]
          },
          "metadata": {},
          "execution_count": 75
        }
      ]
    },
    {
      "cell_type": "markdown",
      "source": [
        "**shape manipulation**"
      ],
      "metadata": {
        "id": "4vhVCH5d8zdZ"
      }
    },
    {
      "cell_type": "code",
      "source": [
        "import numpy as np"
      ],
      "metadata": {
        "id": "vlMeqFVl82dA"
      },
      "execution_count": null,
      "outputs": []
    }
  ]
}